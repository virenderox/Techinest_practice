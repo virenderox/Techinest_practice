{
 "cells": [
  {
   "cell_type": "code",
   "execution_count": 2,
   "metadata": {},
   "outputs": [],
   "source": [
    "#traing data\n",
    "training_data = [\n",
    "    [\"Green\", 3, 'Mango'],\n",
    "    ['yellow', 3, 'Mango'],\n",
    "    ['red', 1, 'grape'],\n",
    "    ['red', 1, 'grape'],\n",
    "    ['yellow', 3, 'lemon']\n",
    "]"
   ]
  },
  {
   "cell_type": "code",
   "execution_count": 38,
   "metadata": {},
   "outputs": [],
   "source": [
    "#header for the traing set\n",
    "head = ['color', 'diameter', 'label']"
   ]
  },
  {
   "cell_type": "code",
   "execution_count": 4,
   "metadata": {},
   "outputs": [],
   "source": [
    "#finding the unique for a colum in dataset\n",
    "def unique_vals(rows,col):\n",
    "    return set([row[col] for row in rows])"
   ]
  },
  {
   "cell_type": "code",
   "execution_count": 5,
   "metadata": {},
   "outputs": [
    {
     "data": {
      "text/plain": [
       "{1, 3}"
      ]
     },
     "execution_count": 5,
     "metadata": {},
     "output_type": "execute_result"
    }
   ],
   "source": [
    "unique_vals(training_data,1)"
   ]
  },
  {
   "cell_type": "code",
   "execution_count": 6,
   "metadata": {},
   "outputs": [],
   "source": [
    "#count the number of each type of example in a dataset.\n",
    "def class_counts(rows):\n",
    "    counts ={}\n",
    "    for row in rows:\n",
    "        #in our dataset format, the label is always the last column\n",
    "        label = row[-1]\n",
    "        if label not in counts:\n",
    "            counts[label] = 0\n",
    "        counts[label] += 1\n",
    "    return(counts)"
   ]
  },
  {
   "cell_type": "code",
   "execution_count": 7,
   "metadata": {},
   "outputs": [
    {
     "data": {
      "text/plain": [
       "{'Mango': 2, 'grape': 2, 'lemon': 1}"
      ]
     },
     "execution_count": 7,
     "metadata": {},
     "output_type": "execute_result"
    }
   ],
   "source": [
    "class_counts(training_data)"
   ]
  },
  {
   "cell_type": "code",
   "execution_count": 8,
   "metadata": {},
   "outputs": [],
   "source": [
    "#test if a value is numeric\n",
    "def is_numeric(value):\n",
    "    return isinstance(value, int) or isinstance(value, float)"
   ]
  },
  {
   "cell_type": "code",
   "execution_count": 9,
   "metadata": {},
   "outputs": [
    {
     "data": {
      "text/plain": [
       "True"
      ]
     },
     "execution_count": 9,
     "metadata": {},
     "output_type": "execute_result"
    }
   ],
   "source": [
    "is_numeric(7)"
   ]
  },
  {
   "cell_type": "code",
   "execution_count": 10,
   "metadata": {},
   "outputs": [
    {
     "data": {
      "text/plain": [
       "False"
      ]
     },
     "execution_count": 10,
     "metadata": {},
     "output_type": "execute_result"
    }
   ],
   "source": [
    "is_numeric(\"red\")"
   ]
  },
  {
   "cell_type": "code",
   "execution_count": 39,
   "metadata": {},
   "outputs": [],
   "source": [
    "#a question is used to partition a dataset.\n",
    "class Question:\n",
    "    \"\"\"\"\n",
    "    This class just records c 'cloumn number' (e.g,0 for color) and a 'column value' (Green). the 'match' method is used to compare\n",
    "    the features value in an example to the features value stored in the question.\n",
    "    \"\"\"\n",
    "    def __init__(self,column,value):\n",
    "        self.column = column\n",
    "        self.value = value\n",
    "    def match(self,example):\n",
    "        #compare the features value in example\n",
    "        #feature value in this question\n",
    "        val = example[self.column]\n",
    "        if is_numeric(val):\n",
    "            return val >=self.value\n",
    "        else:\n",
    "            return val == self.value\n",
    "    def __repr__(self):\n",
    "        #this is just a hepler method to print\n",
    "        #question in a readable format.\n",
    "        condition = \"==\"\n",
    "        if is_numeric(self.value):\n",
    "            condition = \">=\"\n",
    "        return \"is %s %s %s?\" % (\n",
    "        head[self.column], condition,str(self.value))"
   ]
  },
  {
   "cell_type": "code",
   "execution_count": 12,
   "metadata": {},
   "outputs": [],
   "source": [
    "#partion the dataset\n",
    "def partition(rows,question):\n",
    "    \"\"\"\n",
    "    for each row in the dataset,check if it matches the question.if \n",
    "    so,add it to 'true_row' , othewise,add it to 'flase rows'.\n",
    "    \"\"\"\n",
    "    true_rows, false_rows = [], []\n",
    "    for row in rows:\n",
    "        if question.match(row):\n",
    "            true_rows.append(row)\n",
    "        else:\n",
    "            false_rows.append(row)\n",
    "    return true_rows, false_rows"
   ]
  },
  {
   "cell_type": "code",
   "execution_count": 13,
   "metadata": {},
   "outputs": [],
   "source": [
    "true_rows,flase_rows = partition(training_data, Question(0,'red'))"
   ]
  },
  {
   "cell_type": "code",
   "execution_count": 14,
   "metadata": {},
   "outputs": [
    {
     "name": "stdout",
     "output_type": "stream",
     "text": [
      "[['red', 1, 'grape'], ['red', 1, 'grape']]\n"
     ]
    }
   ],
   "source": [
    "print(true_rows)"
   ]
  },
  {
   "cell_type": "code",
   "execution_count": 15,
   "metadata": {},
   "outputs": [
    {
     "name": "stdout",
     "output_type": "stream",
     "text": [
      "[['Green', 3, 'Mango'], ['yellow', 3, 'Mango'], ['yellow', 3, 'lemon']]\n"
     ]
    }
   ],
   "source": [
    "print(flase_rows)"
   ]
  },
  {
   "cell_type": "code",
   "execution_count": 16,
   "metadata": {},
   "outputs": [],
   "source": [
    "#caluculate the gini impurity for a list of rows.\n",
    "def gini(rows):\n",
    "    counts = class_counts(rows)\n",
    "    impurity = 1\n",
    "    for l in counts:\n",
    "        prob_of_l = counts[l]/float(len(rows))\n",
    "        impurity -= prob_of_l**2\n",
    "    return(impurity)"
   ]
  },
  {
   "cell_type": "code",
   "execution_count": 17,
   "metadata": {},
   "outputs": [
    {
     "data": {
      "text/plain": [
       "0.6399999999999999"
      ]
     },
     "execution_count": 17,
     "metadata": {},
     "output_type": "execute_result"
    }
   ],
   "source": [
    "gini(training_data)"
   ]
  },
  {
   "cell_type": "code",
   "execution_count": 18,
   "metadata": {},
   "outputs": [],
   "source": [
    "#calculate the information gain\n",
    "#the uncertinity of the starting node, minus the weighted impurity of two child nodes.\n",
    "def info_gain(left, right,current_uncertanity):\n",
    "    p = float(len(left)) /(len(left) + len(right))\n",
    "    return current_uncertanity - p * gini(left) - (1 -p) * gini(right)\n",
    "    "
   ]
  },
  {
   "cell_type": "code",
   "execution_count": 19,
   "metadata": {},
   "outputs": [],
   "source": [
    "c = gini(training_data)\n"
   ]
  },
  {
   "cell_type": "code",
   "execution_count": 20,
   "metadata": {},
   "outputs": [
    {
     "data": {
      "text/plain": [
       "0.6399999999999999"
      ]
     },
     "execution_count": 20,
     "metadata": {},
     "output_type": "execute_result"
    }
   ],
   "source": [
    "c"
   ]
  },
  {
   "cell_type": "code",
   "execution_count": 24,
   "metadata": {},
   "outputs": [],
   "source": [
    "t_r , f_r = partition(training_data,Question(0,'Green'))"
   ]
  },
  {
   "cell_type": "code",
   "execution_count": 25,
   "metadata": {},
   "outputs": [
    {
     "data": {
      "text/plain": [
       "[['Green', 3, 'Mango']]"
      ]
     },
     "execution_count": 25,
     "metadata": {},
     "output_type": "execute_result"
    }
   ],
   "source": [
    "t_r"
   ]
  },
  {
   "cell_type": "code",
   "execution_count": 26,
   "metadata": {},
   "outputs": [
    {
     "data": {
      "text/plain": [
       "[['yellow', 3, 'Mango'],\n",
       " ['red', 1, 'grape'],\n",
       " ['red', 1, 'grape'],\n",
       " ['yellow', 3, 'lemon']]"
      ]
     },
     "execution_count": 26,
     "metadata": {},
     "output_type": "execute_result"
    }
   ],
   "source": [
    "f_r"
   ]
  },
  {
   "cell_type": "code",
   "execution_count": 27,
   "metadata": {},
   "outputs": [
    {
     "data": {
      "text/plain": [
       "0.1399999999999999"
      ]
     },
     "execution_count": 27,
     "metadata": {},
     "output_type": "execute_result"
    }
   ],
   "source": [
    "info_gain(t_r , f_r , c)\n"
   ]
  },
  {
   "cell_type": "code",
   "execution_count": 28,
   "metadata": {},
   "outputs": [],
   "source": [
    "tr , fr = partition(training_data,Question(0,'red'))"
   ]
  },
  {
   "cell_type": "code",
   "execution_count": 29,
   "metadata": {},
   "outputs": [
    {
     "data": {
      "text/plain": [
       "[['red', 1, 'grape'], ['red', 1, 'grape']]"
      ]
     },
     "execution_count": 29,
     "metadata": {},
     "output_type": "execute_result"
    }
   ],
   "source": [
    "tr\n"
   ]
  },
  {
   "cell_type": "code",
   "execution_count": 34,
   "metadata": {},
   "outputs": [
    {
     "data": {
      "text/plain": [
       "3"
      ]
     },
     "execution_count": 34,
     "metadata": {},
     "output_type": "execute_result"
    }
   ],
   "source": [
    "n_features = len(training_data[0])\n",
    "n_features"
   ]
  },
  {
   "cell_type": "code",
   "execution_count": 30,
   "metadata": {},
   "outputs": [
    {
     "data": {
      "text/plain": [
       "[['Green', 3, 'Mango'], ['yellow', 3, 'Mango'], ['yellow', 3, 'lemon']]"
      ]
     },
     "execution_count": 30,
     "metadata": {},
     "output_type": "execute_result"
    }
   ],
   "source": [
    "fr"
   ]
  },
  {
   "cell_type": "code",
   "execution_count": 31,
   "metadata": {},
   "outputs": [
    {
     "data": {
      "text/plain": [
       "0.37333333333333324"
      ]
     },
     "execution_count": 31,
     "metadata": {},
     "output_type": "execute_result"
    }
   ],
   "source": [
    "info_gain(tr,fr,c)"
   ]
  },
  {
   "cell_type": "code",
   "execution_count": 35,
   "metadata": {},
   "outputs": [],
   "source": [
    "#finding the best question to ask by iterating over every features/value and caculation the information\n",
    "def find_best_split(rows):\n",
    "    best_gain = 0 #keep track of the best information gain.\n",
    "    best_question = None #keep train of the features / value that produced it \n",
    "    current_uncertainty = gini(rows)\n",
    "    n_features = len(rows[0]) - 1 #number of columns\n",
    "    for col in range(n_features): #for each features\n",
    "        values = set(row[col] for row in rows)\n",
    "        for vals in values: #for each feautres\n",
    "            question = Question(col , vals)\n",
    "            \n",
    "            #try to split the datasets\n",
    "            tr, fr = partition(rows, question)\n",
    "            \n",
    "            #skip the partion if any of tr or fr have no value\n",
    "            if len(tr) == 0 or len(fr) == 0:\n",
    "                continue\n",
    "            \n",
    "            #calculate the information gain from from this split\n",
    "            gain = info_gain(tr, fr, current_uncertainty)\n",
    "            \n",
    "            #you actually can use '>' instead of '>=' here\n",
    "            #but i wanted the tree to look a certain way for our \n",
    "            #toy dataset.\n",
    "            if gain >= best_gain:\n",
    "                best_gain, best_question = gain, question\n",
    "    \n",
    "    return best_gain , best_question\n"
   ]
  },
  {
   "cell_type": "code",
   "execution_count": 40,
   "metadata": {},
   "outputs": [
    {
     "data": {
      "text/plain": [
       "(0.37333333333333324, is diameter >= 3?)"
      ]
     },
     "execution_count": 40,
     "metadata": {},
     "output_type": "execute_result"
    }
   ],
   "source": [
    "find_best_split(training_data)"
   ]
  },
  {
   "cell_type": "code",
   "execution_count": 41,
   "metadata": {},
   "outputs": [],
   "source": [
    "#a leaf node classifies data.  \n",
    "#this holds a dictionary of class (eg \"Mango\") -> number of times it appear in the row \n",
    "#from the training data that reach this leaf\n",
    "\n",
    "class Leaf:\n",
    "    def __init__(self,rows):\n",
    "        self.predictions = class_counts(rows)"
   ]
  },
  {
   "cell_type": "code",
   "execution_count": 51,
   "metadata": {},
   "outputs": [],
   "source": [
    "# A Decision Node ask a Question \n",
    "#this hold the reference to the question, and to the tow child nodes.\n",
    "\n",
    "class Decision_node:\n",
    "    \n",
    "    def __init__(self,\n",
    "                question,\n",
    "                true_branch,\n",
    "                false_branch):\n",
    "        self.question = question\n",
    "        self.true_branch = true_branch\n",
    "        self.false_branch = false_branch\n",
    "        "
   ]
  },
  {
   "cell_type": "code",
   "execution_count": 52,
   "metadata": {},
   "outputs": [],
   "source": [
    "#build the tree.\n",
    "\n",
    "def build_tree(rows):\n",
    "    \n",
    "    #try partion the dataset of each of the uqique attribute\n",
    "    #calculated  the information gain and return the question that produces the higest gain.\n",
    "    gain, question = find_best_split(rows)\n",
    "    \n",
    "    #base case :no further info gain\n",
    "    #scince we ask no further questions, we return a leaf.\n",
    "    if gain == 0:\n",
    "        return Leaf(rows)\n",
    "    # if we reach here, we have found a useful features / value to partion on.\n",
    "    true_rows, false_rows = partition(rows, question)\n",
    "    \n",
    "    # recursively build the tree branch.\n",
    "    true_branch = build_tree(true_rows)\n",
    "    \n",
    "    # recursively build the false branch.\n",
    "    false_branch = build_tree(false_rows)\n",
    "    \n",
    "    #return a question node.\n",
    "    # this records the best features / value to ask at this point,as well as the branches to fallow\n",
    "    # depending on the answer.\n",
    "    \n",
    "    return Decision_node(question, true_branch, false_branch)"
   ]
  },
  {
   "cell_type": "code",
   "execution_count": 46,
   "metadata": {},
   "outputs": [],
   "source": [
    "def print_tree(node, spacing = \"\"):\n",
    "    \n",
    "    # Base case: we've reached a leaf\n",
    "    if isinstance(node, Leaf):\n",
    "        print(spacing + \"predict\", node.predictions)\n",
    "        return\n",
    "    # Print the Question at this node\n",
    "    print(spacing + str(node.question))\n",
    "    \n",
    "    # call this function recursively on the true branch\n",
    "    print(spacing + '--> True:')\n",
    "    print_tree(node.true_branch , spacing + \" \")\n",
    "    \n",
    "    #class this function recursively on the false branch\n",
    "    print(spacing + '--> False:')\n",
    "    print_tree(node.flase_branch, spacing + \" \")"
   ]
  },
  {
   "cell_type": "code",
   "execution_count": 56,
   "metadata": {},
   "outputs": [],
   "source": [
    "def classify(row, node):\n",
    "    \n",
    "    #base case: we've reached a leaf \n",
    "    if isinstance(node, Leaf):\n",
    "        return node.predictions\n",
    "    # Decide whether to follows the true_branch or the false-branch. compare the features / value in the node,\n",
    "    #to the example we're consideering.\n",
    "    \n",
    "    if node.question.match(row):\n",
    "        return classify(row, node.true_branch)\n",
    "    else:\n",
    "        return classify(row, node.false_branch)\n",
    "    "
   ]
  },
  {
   "cell_type": "code",
   "execution_count": 53,
   "metadata": {},
   "outputs": [],
   "source": [
    "my_tree = build_tree(training_data)"
   ]
  },
  {
   "cell_type": "code",
   "execution_count": 54,
   "metadata": {},
   "outputs": [
    {
     "data": {
      "text/plain": [
       "<__main__.Decision_node at 0x2b6ca8f80f0>"
      ]
     },
     "execution_count": 54,
     "metadata": {},
     "output_type": "execute_result"
    }
   ],
   "source": [
    "my_tree\n"
   ]
  },
  {
   "cell_type": "code",
   "execution_count": 57,
   "metadata": {},
   "outputs": [
    {
     "data": {
      "text/plain": [
       "{'Mango': 1}"
      ]
     },
     "execution_count": 57,
     "metadata": {},
     "output_type": "execute_result"
    }
   ],
   "source": [
    "classify(training_data[0],my_tree)"
   ]
  },
  {
   "cell_type": "code",
   "execution_count": 62,
   "metadata": {},
   "outputs": [],
   "source": [
    "#print the prediction at the leaf.\n",
    "\n",
    "def print_leaf(counts):\n",
    "    total = sum(counts.values())*1.0\n",
    "    probs = {}\n",
    "    for l in counts.keys():\n",
    "        probs[l] = str(int(counts[l]) / total * 100) + \"%\"\n",
    "    return probs"
   ]
  },
  {
   "cell_type": "code",
   "execution_count": 63,
   "metadata": {},
   "outputs": [
    {
     "data": {
      "text/plain": [
       "{'Mango': '100.0%'}"
      ]
     },
     "execution_count": 63,
     "metadata": {},
     "output_type": "execute_result"
    }
   ],
   "source": [
    "print_leaf(classify(training_data[0],my_tree))"
   ]
  },
  {
   "cell_type": "code",
   "execution_count": null,
   "metadata": {},
   "outputs": [],
   "source": []
  }
 ],
 "metadata": {
  "kernelspec": {
   "display_name": "Python 3",
   "language": "python",
   "name": "python3"
  },
  "language_info": {
   "codemirror_mode": {
    "name": "ipython",
    "version": 3
   },
   "file_extension": ".py",
   "mimetype": "text/x-python",
   "name": "python",
   "nbconvert_exporter": "python",
   "pygments_lexer": "ipython3",
   "version": "3.7.1"
  }
 },
 "nbformat": 4,
 "nbformat_minor": 2
}
